{
 "cells": [
  {
   "cell_type": "code",
   "execution_count": 1,
   "id": "3591c916",
   "metadata": {},
   "outputs": [],
   "source": [
    "import numpy as np\n",
    "import matilda"
   ]
  },
  {
   "cell_type": "code",
   "execution_count": 2,
   "id": "422f4f1d",
   "metadata": {},
   "outputs": [],
   "source": [
    "simplices = [[0], [1], [2], [0,1], [0,2], [1,2],\n",
    "             [3], [0,1,2], [0,3], [2,3], [0,2,3]]\n",
    "\n",
    "simplices = [np.array(s) for s in simplices]\n",
    "\n",
    "\n",
    "K = matilda.FilteredSimplicialComplex(dimension=2,\n",
    "                                      simplices=simplices,\n",
    "                                      simplices_indices=[i for i in range(len(simplices))],\n",
    "                                      appears_at=[0, 1, 2, 3,3,3, 4, 5, 6, 6, 7])\n"
   ]
  },
  {
   "attachments": {},
   "cell_type": "markdown",
   "id": "bd5886eb",
   "metadata": {},
   "source": [
    "![simplex](./img/essential.png)"
   ]
  },
  {
   "cell_type": "code",
   "execution_count": 3,
   "id": "a8c07bb0",
   "metadata": {},
   "outputs": [
    {
     "data": {
      "text/plain": [
       "<matilda.filtered_simplicial_complexes.FilteredSimplicialComplex at 0x126a93250>"
      ]
     },
     "execution_count": 3,
     "metadata": {},
     "output_type": "execute_result"
    }
   ],
   "source": [
    "K.make_consistent_indices()"
   ]
  },
  {
   "cell_type": "code",
   "execution_count": 4,
   "id": "b97d5e87",
   "metadata": {},
   "outputs": [],
   "source": [
    "homology_computer = matilda.PersistentHomologyComputer()\n",
    "\n",
    "homology_computer.compute_persistent_homology(K, with_representatives=True, modulus=0)"
   ]
  },
  {
   "cell_type": "code",
   "execution_count": 5,
   "id": "b59a40b5",
   "metadata": {},
   "outputs": [
    {
     "name": "stdout",
     "output_type": "stream",
     "text": [
      "Bars of dimension 0\n",
      "0:[0.0, inf]\n",
      "1:[1.0, 3.0]\n",
      "2:[2.0, 3.0]\n",
      "6:[4.0, 6.0]\n",
      "Bars of dimension 1\n",
      "5:[3.0, 5.0]\n",
      "9:[6.0, inf]\n"
     ]
    }
   ],
   "source": [
    "for k,v in homology_computer.bars.items():\n",
    "    if k>1:\n",
    "        break\n",
    "    print(\"Bars of dimension {}\".format(k))\n",
    "    for kk,vv in v.items():\n",
    "        print(\"{}:{}\".format(kk,vv))"
   ]
  },
  {
   "cell_type": "code",
   "execution_count": 6,
   "id": "21736a9e",
   "metadata": {},
   "outputs": [
    {
     "data": {
      "text/plain": [
       "array([1, 2])"
      ]
     },
     "execution_count": 6,
     "metadata": {},
     "output_type": "execute_result"
    }
   ],
   "source": [
    "simplices[5]"
   ]
  },
  {
   "cell_type": "code",
   "execution_count": 7,
   "id": "4041647a",
   "metadata": {},
   "outputs": [
    {
     "data": {
      "text/plain": [
       "{0: {0: {0: 1}, 1: {1: 1}, 2: {2: 1}, 6: {6: 1}},\n",
       " 1: {5: {3: 1, 4: -1, 5: 1}, 9: {4: 1, 8: -1, 9: 1}}}"
      ]
     },
     "execution_count": 7,
     "metadata": {},
     "output_type": "execute_result"
    }
   ],
   "source": [
    "homology_computer.persistent_cycles"
   ]
  },
  {
   "cell_type": "code",
   "execution_count": 8,
   "id": "fce95d1a",
   "metadata": {},
   "outputs": [
    {
     "data": {
      "text/plain": [
       "{5: {3: 1, 4: -1, 5: 1}, 9: {4: 1, 8: -1, 9: 1}}"
      ]
     },
     "execution_count": 8,
     "metadata": {},
     "output_type": "execute_result"
    }
   ],
   "source": [
    "homology_computer.persistent_cycles[1]"
   ]
  },
  {
   "cell_type": "code",
   "execution_count": 9,
   "id": "51911077",
   "metadata": {},
   "outputs": [
    {
     "name": "stdout",
     "output_type": "stream",
     "text": [
      "1 [0 1]\n",
      "-1 [0 2]\n",
      "1 [1 2]\n"
     ]
    }
   ],
   "source": [
    "for idx, item in homology_computer.persistent_cycles[1][5].items():\n",
    "    print(item, simplices[idx])"
   ]
  },
  {
   "cell_type": "code",
   "execution_count": 10,
   "id": "9473c503",
   "metadata": {},
   "outputs": [
    {
     "name": "stdout",
     "output_type": "stream",
     "text": [
      "1 [0 2]\n",
      "-1 [0 3]\n",
      "1 [2 3]\n"
     ]
    }
   ],
   "source": [
    "for idx, item in homology_computer.persistent_cycles[1][9].items():\n",
    "    print(item, simplices[idx])"
   ]
  },
  {
   "cell_type": "code",
   "execution_count": null,
   "id": "45508fac",
   "metadata": {},
   "outputs": [],
   "source": []
  },
  {
   "cell_type": "code",
   "execution_count": null,
   "id": "7bcdd08a",
   "metadata": {},
   "outputs": [],
   "source": []
  }
 ],
 "metadata": {
  "interpreter": {
   "hash": "a21708d812d62f70891e1adba478e2457711887225fe2528cded953ebf3fe7ef"
  },
  "kernelspec": {
   "display_name": "Python 3.8.5 64-bit ('anaconda3': virtualenv)",
   "name": "python3"
  },
  "language_info": {
   "codemirror_mode": {
    "name": "ipython",
    "version": 3
   },
   "file_extension": ".py",
   "mimetype": "text/x-python",
   "name": "python",
   "nbconvert_exporter": "python",
   "pygments_lexer": "ipython3",
   "version": "3.11.3"
  }
 },
 "nbformat": 4,
 "nbformat_minor": 5
}
