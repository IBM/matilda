{
 "cells": [
  {
   "cell_type": "code",
   "execution_count": 2,
   "id": "515d2c02",
   "metadata": {},
   "outputs": [
    {
     "data": {
      "image/png": "[encoded data removed]",
      "text/plain": [
       "<Figure size 432x288 with 2 Axes>"
      ]
     },
     "metadata": {},
     "output_type": "display_data"
    },
    {
     "data": {
      "text/plain": [
       "<matilda.plot.Plotter at 0x10e77bc70>"
      ]
     },
     "execution_count": 2,
     "metadata": {},
     "output_type": "execute_result"
    }
   ],
   "source": [
    "import matilda\n",
    "\n",
    "matrix = matilda.examples.circle_metric(res=100)\n",
    "\n",
    "K = matilda.FilteredSimplicialComplex()\n",
    "K.construct_vietoris_from_metric(matrix,2,2.1)\n",
    "\n",
    "homology_computer = matilda.PersistentHomologyComputer()\n",
    "\n",
    "homology_computer.compute_persistent_homology(K)\n",
    "\n",
    "plotter = matilda.plot.Plotter()\n",
    "plotter.plot_barcode(homology_computer, dimension=[0,1])"
   ]
  },
  {
   "cell_type": "code",
   "execution_count": 6,
   "id": "483c9f7e",
   "metadata": {},
   "outputs": [
    {
     "name": "stdout",
     "output_type": "stream",
     "text": [
      "Bars of dimension 0\n",
      "0:[0.0, inf]\n",
      "1:[0.0, 0.0627896785736084]\n",
      "2:[0.0, 0.0627896785736084]\n",
      "3:[0.0, 0.0627896785736084]\n",
      "4:[0.0, 0.0627896785736084]\n",
      "5:[0.0, 0.0627896785736084]\n",
      "6:[0.0, 0.0627896785736084]\n",
      "7:[0.0, 0.0627896785736084]\n",
      "8:[0.0, 0.0627896785736084]\n",
      "9:[0.0, 0.0627896785736084]\n",
      "10:[0.0, 0.0627896785736084]\n",
      "11:[0.0, 0.0627896785736084]\n",
      "12:[0.0, 0.0627896785736084]\n",
      "13:[0.0, 0.0627896785736084]\n",
      "14:[0.0, 0.0627896785736084]\n",
      "15:[0.0, 0.0627896785736084]\n",
      "16:[0.0, 0.0627896785736084]\n",
      "17:[0.0, 0.0627896785736084]\n",
      "18:[0.0, 0.0627896785736084]\n",
      "19:[0.0, 0.0627896785736084]\n",
      "20:[0.0, 0.0627896785736084]\n",
      "21:[0.0, 0.0627896785736084]\n",
      "22:[0.0, 0.0627896785736084]\n",
      "23:[0.0, 0.0627896785736084]\n",
      "24:[0.0, 0.0627896785736084]\n",
      "25:[0.0, 0.0627896785736084]\n",
      "26:[0.0, 0.0627896785736084]\n",
      "27:[0.0, 0.0627896785736084]\n",
      "28:[0.0, 0.0627896785736084]\n",
      "29:[0.0, 0.0627896785736084]\n",
      "30:[0.0, 0.0627896785736084]\n",
      "31:[0.0, 0.0627896785736084]\n",
      "32:[0.0, 0.0627896785736084]\n",
      "33:[0.0, 0.0627896785736084]\n",
      "34:[0.0, 0.0627896785736084]\n",
      "35:[0.0, 0.0627896785736084]\n",
      "36:[0.0, 0.0627896785736084]\n",
      "37:[0.0, 0.0627896785736084]\n",
      "38:[0.0, 0.0627896785736084]\n",
      "39:[0.0, 0.0627896785736084]\n",
      "40:[0.0, 0.0627896785736084]\n",
      "41:[0.0, 0.0627896785736084]\n",
      "42:[0.0, 0.0627896785736084]\n",
      "43:[0.0, 0.0627896785736084]\n",
      "44:[0.0, 0.0627896785736084]\n",
      "45:[0.0, 0.0627896785736084]\n",
      "46:[0.0, 0.0627896785736084]\n",
      "47:[0.0, 0.0627896785736084]\n",
      "48:[0.0, 0.0627896785736084]\n",
      "49:[0.0, 0.0627896785736084]\n",
      "50:[0.0, 0.0627896785736084]\n",
      "51:[0.0, 0.0627896785736084]\n",
      "52:[0.0, 0.0627896785736084]\n",
      "53:[0.0, 0.0627896785736084]\n",
      "54:[0.0, 0.0627896785736084]\n",
      "55:[0.0, 0.0627896785736084]\n",
      "56:[0.0, 0.0627896785736084]\n",
      "57:[0.0, 0.0627896785736084]\n",
      "58:[0.0, 0.0627896785736084]\n",
      "59:[0.0, 0.0627896785736084]\n",
      "60:[0.0, 0.0627896785736084]\n",
      "61:[0.0, 0.0627896785736084]\n",
      "62:[0.0, 0.0627896785736084]\n",
      "63:[0.0, 0.0627896785736084]\n",
      "64:[0.0, 0.0627896785736084]\n",
      "65:[0.0, 0.0627896785736084]\n",
      "66:[0.0, 0.0627896785736084]\n",
      "67:[0.0, 0.0627896785736084]\n",
      "68:[0.0, 0.0627896785736084]\n",
      "69:[0.0, 0.0627896785736084]\n",
      "70:[0.0, 0.0627896785736084]\n",
      "71:[0.0, 0.0627896785736084]\n",
      "72:[0.0, 0.0627896785736084]\n",
      "73:[0.0, 0.0627896785736084]\n",
      "74:[0.0, 0.0627896785736084]\n",
      "75:[0.0, 0.0627896785736084]\n",
      "76:[0.0, 0.0627896785736084]\n",
      "77:[0.0, 0.0627896785736084]\n",
      "78:[0.0, 0.0627896785736084]\n",
      "79:[0.0, 0.0627896785736084]\n",
      "80:[0.0, 0.0627896785736084]\n",
      "81:[0.0, 0.0627896785736084]\n",
      "82:[0.0, 0.0627896785736084]\n",
      "83:[0.0, 0.0627896785736084]\n",
      "84:[0.0, 0.0627896785736084]\n",
      "85:[0.0, 0.0627896785736084]\n",
      "86:[0.0, 0.0627896785736084]\n",
      "87:[0.0, 0.0627896785736084]\n",
      "88:[0.0, 0.0627896785736084]\n",
      "89:[0.0, 0.0627896785736084]\n",
      "90:[0.0, 0.0627896785736084]\n",
      "91:[0.0, 0.0627896785736084]\n",
      "92:[0.0, 0.0627896785736084]\n",
      "93:[0.0, 0.0627896785736084]\n",
      "94:[0.0, 0.0627896785736084]\n",
      "95:[0.0, 0.0627896785736084]\n",
      "96:[0.0, 0.0627896785736084]\n",
      "97:[0.0, 0.0627896785736084]\n",
      "98:[0.0, 0.0627896785736084]\n",
      "99:[0.0, 0.0627896785736084]\n",
      "Bars of dimension 1\n",
      "199:[0.06597333401441574, 1.752091407775879]\n"
     ]
    }
   ],
   "source": [
    "for k,v in homology_computer.bars.items():\n",
    "    if k>1:\n",
    "        break\n",
    "    print(\"Bars of dimension {}\".format(k))\n",
    "    for kk,vv in v.items():\n",
    "        print(\"{}:{}\".format(kk,vv))"
   ]
  },
  {
   "cell_type": "code",
   "execution_count": null,
   "metadata": {},
   "outputs": [],
   "source": []
  }
 ],
 "metadata": {
  "interpreter": {
   "hash": "a21708d812d62f70891e1adba478e2457711887225fe2528cded953ebf3fe7ef"
  },
  "kernelspec": {
   "display_name": "Python 3.8.5 64-bit ('anaconda3': virtualenv)",
   "name": "python3"
  },
  "language_info": {
   "codemirror_mode": {
    "name": "ipython",
    "version": 3
   },
   "file_extension": ".py",
   "mimetype": "text/x-python",
   "name": "python",
   "nbconvert_exporter": "python",
   "pygments_lexer": "ipython3",
   "version": "3.10.3"
  }
 },
 "nbformat": 4,
 "nbformat_minor": 5
}
