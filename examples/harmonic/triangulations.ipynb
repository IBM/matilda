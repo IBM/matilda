{
 "cells": [
  {
   "cell_type": "code",
   "execution_count": 2,
   "metadata": {},
   "outputs": [],
   "source": [
    "import numpy as np\n",
    "\n",
    "from tqdm.auto import tqdm\n",
    "\n",
    "import matplotlib\n",
    "import matplotlib.pyplot as plt\n",
    "import networkx as nx\n",
    "\n",
    "import matilda\n",
    "import matilda.prototyping\n",
    "import matilda.harmonic\n"
   ]
  },
  {
   "cell_type": "markdown",
   "metadata": {},
   "source": [
    "## Trifold\n",
    "\n",
    "three triangles sharing an edge"
   ]
  },
  {
   "cell_type": "code",
   "execution_count": 58,
   "metadata": {},
   "outputs": [],
   "source": [
    "simplices = [\n",
    "    [0],\n",
    "    [1],\n",
    "    [2],\n",
    "    [3],\n",
    "    [4],\n",
    "    [0, 1],\n",
    "    [0, 2],\n",
    "    [0, 3],\n",
    "    [0, 4],\n",
    "    [1, 2],\n",
    "    [1, 3],\n",
    "    [1, 4],\n",
    "]\n",
    "\n",
    "coord_vertices = [[0, 0], [1, 0], [1 / 2, 1], [0, -1], [1, -1]]\n",
    "\n",
    "\n",
    "simplices = [np.array(s) for s in simplices]\n",
    "\n",
    "K = matilda.prototyping.FilteredSimplicialComplex(\n",
    "    dimension=2,\n",
    "    simplices=simplices,\n",
    "    simplices_indices=[i for i in range(len(simplices))],\n",
    "    appears_at=[i for i in range(len(simplices))],\n",
    ")\n"
   ]
  },
  {
   "cell_type": "code",
   "execution_count": 59,
   "metadata": {},
   "outputs": [
    {
     "data": {
      "text/plain": [
       "<Axes: >"
      ]
     },
     "execution_count": 59,
     "metadata": {},
     "output_type": "execute_result"
    },
    {
     "data": {
      "image/png": "[encoded data removed]",
      "text/plain": [
       "<Figure size 400x400 with 1 Axes>"
      ]
     },
     "metadata": {},
     "output_type": "display_data"
    }
   ],
   "source": [
    "plotter = matilda.plot.Plotter()\n",
    "\n",
    "fig, ax = plt.subplots(ncols=1, figsize=(4, 4))\n",
    "\n",
    "plotter.plot_2skel(\n",
    "    K,\n",
    "    max_id=99,\n",
    "    pos={i: p for i, p in enumerate(coord_vertices)},\n",
    "    labels=[str(i[0]) for i in simplices if len(i) == 1],\n",
    "    this_ax=ax,\n",
    ")\n"
   ]
  },
  {
   "cell_type": "code",
   "execution_count": 60,
   "metadata": {},
   "outputs": [
    {
     "name": "stdout",
     "output_type": "stream",
     "text": [
      "Bars of dimension 0\n",
      "0:[0.0, inf]\n",
      "1:[1.0, 5.0]\n",
      "2:[2.0, 6.0]\n",
      "3:[3.0, 7.0]\n",
      "4:[4.0, 8.0]\n",
      "Bars of dimension 1\n",
      "9:[9.0, inf]\n",
      "10:[10.0, inf]\n",
      "11:[11.0, inf]\n"
     ]
    }
   ],
   "source": [
    "homology_computer = matilda.PersistentHomologyComputer()\n",
    "homology_computer.compute_persistent_homology(K, with_representatives=True, modulus=0)\n",
    "\n",
    "for k, v in homology_computer.bars.items():\n",
    "    if k > 1:\n",
    "        break\n",
    "    print(\"Bars of dimension {}\".format(k))\n",
    "    for kk, vv in v.items():\n",
    "        print(\"{}:{}\".format(kk, vv))\n"
   ]
  },
  {
   "cell_type": "code",
   "execution_count": 61,
   "metadata": {},
   "outputs": [
    {
     "data": {
      "text/plain": [
       "{9: {5: 1, 6: -1, 9: 1}, 10: {5: 1, 7: -1, 10: 1}, 11: {5: 1, 8: -1, 11: 1}}"
      ]
     },
     "execution_count": 61,
     "metadata": {},
     "output_type": "execute_result"
    }
   ],
   "source": [
    "homology_computer.persistent_cycles[1]\n"
   ]
  },
  {
   "cell_type": "code",
   "execution_count": 62,
   "metadata": {},
   "outputs": [],
   "source": [
    "harmonic_computer = matilda.harmonic.HarmonicRepresentativesComputer(\n",
    "    K, homology_computer\n",
    ")\n",
    "harmonic_computer.compute_harmonic_cycles(dim=1)\n"
   ]
  },
  {
   "cell_type": "code",
   "execution_count": 63,
   "metadata": {},
   "outputs": [
    {
     "data": {
      "text/plain": [
       "{9: {5: 1.0, 6: -1.0, 7: 0.0, 8: 0.0, 9: 1.0},\n",
       " 10: {5: 0.6666666666666665,\n",
       "  6: 0.3333333333333334,\n",
       "  7: -1.0,\n",
       "  8: 0.0,\n",
       "  9: -0.3333333333333334,\n",
       "  10: 1.0},\n",
       " 11: {5: 0.49999999999999994,\n",
       "  6: 0.2500000000000001,\n",
       "  7: 0.24999999999999992,\n",
       "  8: -1.0,\n",
       "  9: -0.2500000000000001,\n",
       "  10: -0.24999999999999992,\n",
       "  11: 1.0}}"
      ]
     },
     "execution_count": 63,
     "metadata": {},
     "output_type": "execute_result"
    }
   ],
   "source": [
    "harmonic_computer.harmonic_cycles[1]\n"
   ]
  },
  {
   "cell_type": "code",
   "execution_count": 64,
   "metadata": {},
   "outputs": [
    {
     "name": "stdout",
     "output_type": "stream",
     "text": [
      "ID: 9 standard 1.73, harmonic 1.73\n",
      "ID: 10 standard 1.73, harmonic 1.63\n",
      "ID: 11 standard 1.73, harmonic 1.58\n"
     ]
    }
   ],
   "source": [
    "for id in harmonic_computer.harmonic_cycles[1].keys():\n",
    "    print(\n",
    "        \"ID: {} standard {:.2f}, harmonic {:.2f}\".format(\n",
    "            id,\n",
    "            np.linalg.norm(\n",
    "                [i for _, i in homology_computer.persistent_cycles[1][id].items()]\n",
    "            ),\n",
    "            np.linalg.norm(\n",
    "                [i for _, i in harmonic_computer.harmonic_cycles[1][id].items()]\n",
    "            ),\n",
    "        )\n",
    "    )\n"
   ]
  },
  {
   "cell_type": "code",
   "execution_count": 65,
   "metadata": {},
   "outputs": [
    {
     "data": {
      "image/png": "[encoded data removed]",
      "text/plain": [
       "<Figure size 1200x400 with 3 Axes>"
      ]
     },
     "metadata": {},
     "output_type": "display_data"
    }
   ],
   "source": [
    "fig, axs = plt.subplots(ncols=3, figsize=(12, 4))\n",
    "\n",
    "for i, id in enumerate(harmonic_computer.harmonic_cycles[1].keys()):\n",
    "    plotter.plot_2skel(\n",
    "        K,\n",
    "        max_id=id,\n",
    "        pos={i: p for i, p in enumerate(coord_vertices)},\n",
    "        vertices_color=[\"black\"],\n",
    "        t_alpha=0.2,\n",
    "        this_ax=axs[i],\n",
    "    )\n",
    "\n",
    "    lines_0, w_0 = plotter.plot_1cycle(\n",
    "        harmonic_computer.harmonic_cycles[1][id], K, coord_vertices\n",
    "    )\n",
    "\n",
    "    lg0 = matplotlib.collections.LineCollection(\n",
    "        lines_0, color=\"red\", linewidths=w_0 * 5\n",
    "    )\n",
    "    axs[i].add_collection(lg0)\n",
    "\n",
    "    axs[i].axis(\"equal\")\n",
    "    axs[i].set_title(homology_computer.bars[1][id])\n",
    "\n",
    "plt.tight_layout()\n",
    "plt.show()\n"
   ]
  },
  {
   "cell_type": "markdown",
   "metadata": {},
   "source": [
    "## Mobius band"
   ]
  },
  {
   "cell_type": "markdown",
   "metadata": {},
   "source": [
    "![mobius](img/mobius.jpg)"
   ]
  },
  {
   "cell_type": "code",
   "execution_count": 66,
   "metadata": {},
   "outputs": [],
   "source": [
    "simplices = [\n",
    "    [0],\n",
    "    [1],\n",
    "    [2],\n",
    "    [3],\n",
    "    [4],\n",
    "    [5],\n",
    "    [0, 1],\n",
    "    [0, 3],\n",
    "    [0, 4],\n",
    "    [1, 2],\n",
    "    [1, 4],\n",
    "    [1, 5],\n",
    "    [2, 3],\n",
    "    [2, 0],\n",
    "    [2, 5],\n",
    "    [3, 4],\n",
    "    [4, 5],\n",
    "    [5, 0],\n",
    "    [0, 3, 4],\n",
    "    [0, 1, 4],\n",
    "    [1, 4, 5],\n",
    "    [1, 2, 5],\n",
    "    [2, 5, 0],\n",
    "    [2, 3, 0],\n",
    "]\n",
    "\n",
    "simplices = [np.array(s) for s in simplices]\n",
    "\n",
    "K = matilda.prototyping.FilteredSimplicialComplex(\n",
    "    dimension=2,\n",
    "    simplices=simplices,\n",
    "    simplices_indices=[i for i in range(len(simplices))],\n",
    "    appears_at=[0 for _ in range(len(simplices))],\n",
    ")\n"
   ]
  },
  {
   "cell_type": "code",
   "execution_count": 67,
   "metadata": {},
   "outputs": [
    {
     "name": "stdout",
     "output_type": "stream",
     "text": [
      "Bars of dimension 0\n",
      "0:[0.0, inf]\n",
      "Bars of dimension 1\n",
      "12:[0.0, inf]\n"
     ]
    }
   ],
   "source": [
    "homology_computer = matilda.PersistentHomologyComputer()\n",
    "homology_computer.compute_persistent_homology(K, with_representatives=True, modulus=0)\n",
    "\n",
    "for k, v in homology_computer.bars.items():\n",
    "    if k > 1:\n",
    "        break\n",
    "    print(\"Bars of dimension {}\".format(k))\n",
    "    for kk, vv in v.items():\n",
    "        print(\"{}:{}\".format(kk, vv))\n"
   ]
  },
  {
   "cell_type": "code",
   "execution_count": 68,
   "metadata": {},
   "outputs": [
    {
     "data": {
      "text/plain": [
       "{12: {6: 1, 7: -1, 9: 1, 12: 1}}"
      ]
     },
     "execution_count": 68,
     "metadata": {},
     "output_type": "execute_result"
    }
   ],
   "source": [
    "homology_computer.persistent_cycles[1]\n"
   ]
  },
  {
   "cell_type": "code",
   "execution_count": 69,
   "metadata": {},
   "outputs": [],
   "source": [
    "harmonic_computer = matilda.harmonic.HarmonicRepresentativesComputer(\n",
    "    K, homology_computer\n",
    ")\n",
    "harmonic_computer.compute_harmonic_cycles(dim=1)\n"
   ]
  },
  {
   "cell_type": "code",
   "execution_count": 70,
   "metadata": {},
   "outputs": [
    {
     "data": {
      "text/plain": [
       "{12: {6: 1.0, 7: -1.0, 8: 0.0, 9: 1.0, 10: 0.0, 11: 0.0, 12: 1.0}}"
      ]
     },
     "execution_count": 70,
     "metadata": {},
     "output_type": "execute_result"
    }
   ],
   "source": [
    "harmonic_computer.harmonic_cycles[1]\n"
   ]
  },
  {
   "cell_type": "markdown",
   "metadata": {},
   "source": [
    "## Klein bottle"
   ]
  },
  {
   "cell_type": "markdown",
   "metadata": {},
   "source": [
    "![bottle](img/kb.jpg)"
   ]
  },
  {
   "cell_type": "code",
   "execution_count": 71,
   "metadata": {},
   "outputs": [
    {
     "name": "stdout",
     "output_type": "stream",
     "text": [
      "9 0-dim simplices\n",
      "27 1-dim simplices\n",
      "18 2-dim simplices\n"
     ]
    }
   ],
   "source": [
    "simplices = [\n",
    "    [0],\n",
    "    [1],\n",
    "    [2],\n",
    "    [3],\n",
    "    [4],\n",
    "    [5],\n",
    "    [6],\n",
    "    [7],\n",
    "    [8],\n",
    "    [0, 1],\n",
    "    [1, 2],\n",
    "    [0, 3],\n",
    "    [0, 4],\n",
    "    [0, 6],\n",
    "    [0, 8],\n",
    "    [1, 2],\n",
    "    [1, 4],\n",
    "    [1, 5],\n",
    "    [1, 7],\n",
    "    [1, 8],\n",
    "    [2, 5],\n",
    "    [2, 3],\n",
    "    [2, 6],\n",
    "    [2, 7],\n",
    "    [3, 4],\n",
    "    [3, 5],\n",
    "    [3, 6],\n",
    "    [3, 7],\n",
    "    [4, 5],\n",
    "    [4, 7],\n",
    "    [4, 8],\n",
    "    [5, 6],\n",
    "    [5, 8],\n",
    "    [6, 7],\n",
    "    [6, 8],\n",
    "    [7, 8],\n",
    "    [0, 3, 4],\n",
    "    [0, 1, 4],\n",
    "    [1, 4, 5],\n",
    "    [1, 2, 5],\n",
    "    [2, 3, 5],\n",
    "    [0, 2, 3],\n",
    "    [3, 6, 7],\n",
    "    [3, 4, 7],\n",
    "    [4, 7, 8],\n",
    "    [4, 5, 8],\n",
    "    [5, 6, 8],\n",
    "    [3, 5, 6],\n",
    "    [0, 2, 6],\n",
    "    [2, 6, 7],\n",
    "    [1, 2, 7],\n",
    "    [1, 2, 8],\n",
    "    [0, 1, 8],\n",
    "    [0, 6, 8],\n",
    "]\n",
    "\n",
    "simplices = [np.array(s) for s in simplices]\n",
    "\n",
    "K = matilda.prototyping.FilteredSimplicialComplex(\n",
    "    dimension=2,\n",
    "    simplices=simplices,\n",
    "    simplices_indices=[i for i in range(len(simplices))],\n",
    "    appears_at=[0 for _ in range(len(simplices))],\n",
    ")\n",
    "\n",
    "for i in range(K.dimension + 1):\n",
    "    print(\n",
    "        \"{} {}-dim simplices\".format(\n",
    "            len([s for s in K.simplices if len(s) == (i + 1)]), i\n",
    "        )\n",
    "    )\n"
   ]
  },
  {
   "cell_type": "code",
   "execution_count": 72,
   "metadata": {},
   "outputs": [
    {
     "name": "stdout",
     "output_type": "stream",
     "text": [
      "Bars of dimension 0\n",
      "0:[0.0, inf]\n",
      "Bars of dimension 1\n",
      "26:[0.0, inf]\n"
     ]
    }
   ],
   "source": [
    "homology_computer = matilda.PersistentHomologyComputer()\n",
    "homology_computer.compute_persistent_homology(K, with_representatives=True, modulus=0)\n",
    "\n",
    "for k, v in homology_computer.bars.items():\n",
    "    if k > 1:\n",
    "        break\n",
    "    print(\"Bars of dimension {}\".format(k))\n",
    "    for kk, vv in v.items():\n",
    "        print(\"{}:{}\".format(kk, vv))\n"
   ]
  },
  {
   "cell_type": "code",
   "execution_count": 73,
   "metadata": {},
   "outputs": [
    {
     "data": {
      "text/plain": [
       "{26: {11: 1, 13: -1, 26: 1}}"
      ]
     },
     "execution_count": 73,
     "metadata": {},
     "output_type": "execute_result"
    }
   ],
   "source": [
    "homology_computer.persistent_cycles[1]\n"
   ]
  },
  {
   "cell_type": "code",
   "execution_count": null,
   "metadata": {},
   "outputs": [],
   "source": []
  },
  {
   "cell_type": "markdown",
   "metadata": {},
   "source": [
    "## Real Projective Plane"
   ]
  },
  {
   "cell_type": "markdown",
   "metadata": {},
   "source": [
    "![rp2](img/rp2.jpg)"
   ]
  },
  {
   "cell_type": "code",
   "execution_count": 14,
   "metadata": {},
   "outputs": [
    {
     "name": "stdout",
     "output_type": "stream",
     "text": [
      "6 0-dim simplices\n",
      "15 1-dim simplices\n",
      "10 2-dim simplices\n"
     ]
    }
   ],
   "source": [
    "simplices = [\n",
    "    [1],\n",
    "    [2],\n",
    "    [3],\n",
    "    [4],\n",
    "    [5],\n",
    "    [6],\n",
    "    [1, 2],\n",
    "    [1, 3],\n",
    "    [1, 4],\n",
    "    [1, 5],\n",
    "    [1, 6],\n",
    "    [2, 3],\n",
    "    [2, 4],\n",
    "    [2, 5],\n",
    "    [2, 6],\n",
    "    [3, 4],\n",
    "    [3, 5],\n",
    "    [3, 6],\n",
    "    [4, 5],\n",
    "    [4, 6],\n",
    "    [5, 6],\n",
    "    [1, 2, 5],\n",
    "    [1, 2, 6],\n",
    "    [1, 3, 4],\n",
    "    [1, 3, 6],\n",
    "    [1, 4, 5],\n",
    "    [2, 3, 4],\n",
    "    [2, 3, 5],\n",
    "    [2, 4, 6],\n",
    "    [3, 5, 6],\n",
    "    [4, 5, 6],\n",
    "]\n",
    "\n",
    "simplices = [np.array(s) for s in simplices]\n",
    "\n",
    "K = matilda.prototyping.FilteredSimplicialComplex(\n",
    "    dimension=2,\n",
    "    simplices=simplices,\n",
    "    simplices_indices=[i for i in range(len(simplices))],\n",
    "    appears_at=[0 for _ in range(len(simplices))],\n",
    ")\n",
    "\n",
    "for i in range(K.dimension + 1):\n",
    "    print(\n",
    "        \"{} {}-dim simplices\".format(\n",
    "            len([s for s in K.simplices if len(s) == (i + 1)]), i\n",
    "        )\n",
    "    )\n"
   ]
  },
  {
   "cell_type": "code",
   "execution_count": 17,
   "metadata": {},
   "outputs": [
    {
     "name": "stdout",
     "output_type": "stream",
     "text": [
      "Bars of dimension 0\n",
      "0:[0.0, inf]\n"
     ]
    }
   ],
   "source": [
    "homology_computer = matilda.PersistentHomologyComputer()\n",
    "homology_computer.compute_persistent_homology(K, with_representatives=True, modulus=0)\n",
    "\n",
    "for k, v in homology_computer.bars.items():\n",
    "    if k > 1:\n",
    "        break\n",
    "    print(\"Bars of dimension {}\".format(k))\n",
    "    for kk, vv in v.items():\n",
    "        print(\"{}:{}\".format(kk, vv))\n"
   ]
  },
  {
   "cell_type": "code",
   "execution_count": 9,
   "metadata": {},
   "outputs": [
    {
     "data": {
      "text/plain": [
       "{11: {6: 1, 7: 2, 11: 1}}"
      ]
     },
     "execution_count": 9,
     "metadata": {},
     "output_type": "execute_result"
    }
   ],
   "source": [
    "homology_computer.persistent_cycles[1]\n"
   ]
  },
  {
   "cell_type": "code",
   "execution_count": 77,
   "metadata": {},
   "outputs": [
    {
     "data": {
      "text/plain": [
       "{11: {6: 1.0, 7: -1.0, 8: 0.0, 9: 0.0, 10: 0.0, 11: 1.0}}"
      ]
     },
     "execution_count": 77,
     "metadata": {},
     "output_type": "execute_result"
    }
   ],
   "source": [
    "harmonic_computer = matilda.harmonic.HarmonicRepresentativesComputer(\n",
    "    K, homology_computer\n",
    ")\n",
    "harmonic_computer.compute_harmonic_cycles(dim=1)\n",
    "\n",
    "harmonic_computer.harmonic_cycles[1]\n"
   ]
  },
  {
   "cell_type": "markdown",
   "metadata": {},
   "source": [
    "## Real projective plane v. 2"
   ]
  },
  {
   "cell_type": "markdown",
   "metadata": {},
   "source": [
    "![rp2](img/new_rp2.jpg)"
   ]
  },
  {
   "cell_type": "code",
   "execution_count": 10,
   "metadata": {},
   "outputs": [
    {
     "name": "stdout",
     "output_type": "stream",
     "text": [
      "7 0-dim simplices\n",
      "18 1-dim simplices\n",
      "12 2-dim simplices\n"
     ]
    }
   ],
   "source": [
    "simplices = [\n",
    "    [1],\n",
    "    [2],\n",
    "    [3],\n",
    "    [4],\n",
    "    [5],\n",
    "    [6],\n",
    "    [7],\n",
    "    [1, 2],\n",
    "    [1, 3],\n",
    "    [1, 4],\n",
    "    [1, 7],\n",
    "    [2, 3],\n",
    "    [2, 4],\n",
    "    [2, 5],\n",
    "    [2, 6],\n",
    "    [2, 7],\n",
    "    [3, 4],\n",
    "    [3, 5],\n",
    "    [3, 6],\n",
    "    [3, 7],\n",
    "    [4, 5],\n",
    "    [4, 6],\n",
    "    [4, 7],\n",
    "    [5, 7],\n",
    "    [6, 7],\n",
    "    [1, 2, 4],\n",
    "    [1, 2, 7],\n",
    "    [1, 3, 4],\n",
    "    [1, 3, 7],\n",
    "    [2, 3, 5],\n",
    "    [2, 3, 6],\n",
    "    [2, 4, 6],\n",
    "    [2, 5, 7],\n",
    "    [3, 4, 5],\n",
    "    [3, 6, 7],\n",
    "    [4, 5, 7],\n",
    "    [4, 6, 7],\n",
    "]\n",
    "\n",
    "simplices = [np.array(s) for s in simplices]\n",
    "\n",
    "K = matilda.prototyping.FilteredSimplicialComplex(\n",
    "    dimension=2,\n",
    "    simplices=simplices,\n",
    "    simplices_indices=[i for i in range(len(simplices))],\n",
    "    appears_at=[0 for _ in range(len(simplices))],\n",
    ")\n",
    "\n",
    "for i in range(K.dimension + 1):\n",
    "    print(\n",
    "        \"{} {}-dim simplices\".format(\n",
    "            len([s for s in K.simplices if len(s) == (i + 1)]), i\n",
    "        )\n",
    "    )\n"
   ]
  },
  {
   "cell_type": "code",
   "execution_count": 13,
   "metadata": {},
   "outputs": [
    {
     "name": "stdout",
     "output_type": "stream",
     "text": [
      "Bars of dimension 0\n",
      "0:[0.0, inf]\n"
     ]
    }
   ],
   "source": [
    "homology_computer = matilda.PersistentHomologyComputer()\n",
    "homology_computer.compute_persistent_homology(K, with_representatives=True, modulus=0)\n",
    "\n",
    "for k, v in homology_computer.bars.items():\n",
    "    if k > 1:\n",
    "        break\n",
    "    print(\"Bars of dimension {}\".format(k))\n",
    "    for kk, vv in v.items():\n",
    "        print(\"{}:{}\".format(kk, vv))\n"
   ]
  },
  {
   "cell_type": "code",
   "execution_count": null,
   "metadata": {},
   "outputs": [],
   "source": []
  }
 ],
 "metadata": {
  "kernelspec": {
   "display_name": "tda",
   "language": "python",
   "name": "python3"
  },
  "language_info": {
   "codemirror_mode": {
    "name": "ipython",
    "version": 3
   },
   "file_extension": ".py",
   "mimetype": "text/x-python",
   "name": "python",
   "nbconvert_exporter": "python",
   "pygments_lexer": "ipython3",
   "version": "3.11.3"
  },
  "orig_nbformat": 4
 },
 "nbformat": 4,
 "nbformat_minor": 2
}
