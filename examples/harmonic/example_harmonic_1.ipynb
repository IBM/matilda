{
 "cells": [
  {
   "cell_type": "code",
   "execution_count": 1,
   "id": "3591c916",
   "metadata": {},
   "outputs": [],
   "source": [
    "import numpy as np\n",
    "\n",
    "from tqdm.auto import tqdm\n",
    "\n",
    "import matplotlib\n",
    "import matplotlib.pyplot as plt\n",
    "import networkx as nx\n",
    "\n",
    "import matilda\n",
    "import matilda.prototyping\n",
    "import matilda.harmonic\n"
   ]
  },
  {
   "cell_type": "code",
   "execution_count": 2,
   "id": "b703b6eb",
   "metadata": {},
   "outputs": [],
   "source": [
    "SAVEFIG = False\n"
   ]
  },
  {
   "attachments": {},
   "cell_type": "markdown",
   "id": "744f40cc",
   "metadata": {},
   "source": [
    "## Example 1\n",
    "in Fig.1 https://arxiv.org/abs/2105.15170"
   ]
  },
  {
   "cell_type": "code",
   "execution_count": 3,
   "id": "422f4f1d",
   "metadata": {},
   "outputs": [],
   "source": [
    "simplices = [[0], [1], [2], [0, 1], [0, 2], [1, 2], [3], [0, 1, 2], [0, 3], [2, 3]]\n",
    "\n",
    "coord_vertices = [[1, 0], [1 / 2, 1], [0, 0], [1 / 2, -1]]\n",
    "\n",
    "simplices = [np.array(s) for s in simplices]\n",
    "\n",
    "\n",
    "K = matilda.prototyping.FilteredSimplicialComplex(\n",
    "    dimension=2,\n",
    "    simplices=simplices,\n",
    "    simplices_indices=[i for i in range(len(simplices))],\n",
    "    appears_at=[0, 1, 2, 3, 3, 3, 4, 5, 6, 6],\n",
    ")\n"
   ]
  },
  {
   "attachments": {},
   "cell_type": "markdown",
   "id": "bd5886eb",
   "metadata": {},
   "source": [
    "![simplex](img/essential.png)"
   ]
  },
  {
   "cell_type": "code",
   "execution_count": 4,
   "id": "8af3b8b6",
   "metadata": {},
   "outputs": [
    {
     "data": {
      "text/plain": [
       "<Axes: >"
      ]
     },
     "execution_count": 4,
     "metadata": {},
     "output_type": "execute_result"
    },
    {
     "data": {
      "image/png": "[encoded data removed]",
      "text/plain": [
       "<Figure size 400x400 with 1 Axes>"
      ]
     },
     "metadata": {},
     "output_type": "display_data"
    }
   ],
   "source": [
    "plotter = matilda.plot.Plotter()\n",
    "\n",
    "fig, ax = plt.subplots(ncols=1, figsize=(4, 4))\n",
    "\n",
    "plotter.plot_2skel(\n",
    "    K,\n",
    "    max_id=99,\n",
    "    pos={i: p for i, p in enumerate(coord_vertices)},\n",
    "    labels=[str(i[0]) for i in simplices if len(i) == 1],\n",
    "    this_ax=ax,\n",
    ")\n"
   ]
  },
  {
   "cell_type": "code",
   "execution_count": 5,
   "id": "b97d5e87",
   "metadata": {},
   "outputs": [],
   "source": [
    "homology_computer = matilda.PersistentHomologyComputer()\n",
    "\n",
    "homology_computer.compute_persistent_homology(K, with_representatives=True, modulus=0)\n"
   ]
  },
  {
   "cell_type": "code",
   "execution_count": 6,
   "id": "f408d80e",
   "metadata": {},
   "outputs": [
    {
     "data": {
      "text/plain": [
       "{3: {0: -1.0, 1: 1.0},\n",
       " 4: {0: -1.0, 2: 1.0},\n",
       " 5: {1: -1.0, 2: 1.0},\n",
       " 7: {3: 1.0, 4: -1.0, 5: 1.0},\n",
       " 8: {0: -1.0, 6: 1.0},\n",
       " 9: {2: -1.0, 6: 1.0}}"
      ]
     },
     "execution_count": 6,
     "metadata": {},
     "output_type": "execute_result"
    }
   ],
   "source": [
    "homology_computer.boundary_matrix\n"
   ]
  },
  {
   "cell_type": "code",
   "execution_count": 7,
   "id": "b59a40b5",
   "metadata": {},
   "outputs": [
    {
     "name": "stdout",
     "output_type": "stream",
     "text": [
      "Bars of dimension 0\n",
      "0:[0.0, inf]\n",
      "1:[1.0, 3.0]\n",
      "2:[2.0, 3.0]\n",
      "6:[4.0, 6.0]\n",
      "Bars of dimension 1\n",
      "5:[3.0, 5.0]\n",
      "9:[6.0, inf]\n"
     ]
    }
   ],
   "source": [
    "for k, v in homology_computer.bars.items():\n",
    "    if k > 1:\n",
    "        break\n",
    "    print(\"Bars of dimension {}\".format(k))\n",
    "    for kk, vv in v.items():\n",
    "        print(\"{}:{}\".format(kk, vv))\n"
   ]
  },
  {
   "cell_type": "code",
   "execution_count": 8,
   "id": "fce95d1a",
   "metadata": {},
   "outputs": [
    {
     "data": {
      "text/plain": [
       "{5: {3: 1, 4: -1, 5: 1}, 9: {4: 1, 8: -1, 9: 1}}"
      ]
     },
     "execution_count": 8,
     "metadata": {},
     "output_type": "execute_result"
    }
   ],
   "source": [
    "homology_computer.persistent_cycles[1]\n"
   ]
  },
  {
   "cell_type": "code",
   "execution_count": 9,
   "id": "731feb3f",
   "metadata": {},
   "outputs": [
    {
     "name": "stdout",
     "output_type": "stream",
     "text": [
      "no cycles selected, projecting all 2 1-dimensional cycles\n",
      "computing harmonic representatives in dimension 1\n",
      "there are 2 homology classes\n"
     ]
    },
    {
     "data": {
      "application/vnd.jupyter.widget-view+json": {
       "model_id": "0aa46ce7bad64102b397fb953530c47b",
       "version_major": 2,
       "version_minor": 0
      },
      "text/plain": [
       "  0%|          | 0/2 [00:00<?, ?it/s]"
      ]
     },
     "metadata": {},
     "output_type": "display_data"
    },
    {
     "name": "stdout",
     "output_type": "stream",
     "text": [
      "\n",
      "current cycle 5\n",
      "creating 3x0 boundary matrix\n",
      "the orthonormalized boundary matrix has shape (3, 0)\n",
      "0.000s\n",
      "projecting on the boundary...\n",
      "0.000s\n",
      "projecting on the other harmonic cycles...\n",
      "0.000s\n",
      "\n",
      "current cycle 9\n",
      "creating 5x1 boundary matrix\n",
      "adding (5, 1) vectors to the basis (5, 0)\n",
      "using gram-smith\n",
      "the orthonormalized boundary matrix has shape (5, 1)\n",
      "0.091s\n",
      "projecting on the boundary...\n",
      "projecting cycle of shape (5,) onto the orthogonal of the boundary (5, 1)\n",
      "0.000s\n",
      "projecting on the other harmonic cycles...\n",
      "0.000s\n"
     ]
    }
   ],
   "source": [
    "harmonic_computer = matilda.harmonic.HarmonicRepresentativesComputer(\n",
    "    K, homology_computer\n",
    ")\n",
    "harmonic_computer.compute_harmonic_cycles(dim=1, verbose=3)\n"
   ]
  },
  {
   "cell_type": "code",
   "execution_count": 10,
   "id": "6b84a1ff",
   "metadata": {},
   "outputs": [
    {
     "name": "stdout",
     "output_type": "stream",
     "text": [
      "ID: 5 standard 1.73, harmonic 1.73\n",
      "ID: 9 standard 1.73, harmonic 1.63\n"
     ]
    }
   ],
   "source": [
    "for id in harmonic_computer.harmonic_cycles[1].keys():\n",
    "    print(\n",
    "        \"ID: {} standard {:.2f}, harmonic {:.2f}\".format(\n",
    "            id,\n",
    "            np.linalg.norm(\n",
    "                [i for _, i in homology_computer.persistent_cycles[1][id].items()]\n",
    "            ),\n",
    "            np.linalg.norm(\n",
    "                [i for _, i in harmonic_computer.harmonic_cycles[1][id].items()]\n",
    "            ),\n",
    "        )\n",
    "    )\n"
   ]
  },
  {
   "cell_type": "code",
   "execution_count": 11,
   "id": "97bdd5f7",
   "metadata": {},
   "outputs": [
    {
     "data": {
      "image/png": "[encoded data removed]",
      "text/plain": [
       "<Figure size 800x500 with 2 Axes>"
      ]
     },
     "metadata": {},
     "output_type": "display_data"
    }
   ],
   "source": [
    "fig, axs = plt.subplots(ncols=2, figsize=(8, 5))\n",
    "\n",
    "for i, id in enumerate(harmonic_computer.harmonic_cycles[1].keys()):\n",
    "    plotter.plot_2skel(\n",
    "        K,\n",
    "        max_id=id,\n",
    "        pos={i: p for i, p in enumerate(coord_vertices)},\n",
    "        vertices_color=[\"black\"],\n",
    "        t_alpha=0.2,\n",
    "        this_ax=axs[i],\n",
    "    )\n",
    "\n",
    "    lines_0, w_0 = plotter.plot_1cycle(\n",
    "        harmonic_computer.harmonic_cycles[1][id], K, coord_vertices\n",
    "    )\n",
    "\n",
    "    lg0 = matplotlib.collections.LineCollection(\n",
    "        lines_0, color=\"red\", linewidths=w_0 * 5\n",
    "    )\n",
    "    axs[i].add_collection(lg0)\n",
    "\n",
    "    axs[i].axis(\"equal\")\n",
    "    axs[i].set_title(homology_computer.bars[1][id])\n",
    "\n",
    "plt.tight_layout()\n",
    "if SAVEFIG:\n",
    "    plt.savefig(\"{}_points_matilda.pdf\".format(len(pointcloud)))\n",
    "plt.show()\n"
   ]
  },
  {
   "cell_type": "code",
   "execution_count": null,
   "id": "ead1b66e",
   "metadata": {},
   "outputs": [],
   "source": []
  }
 ],
 "metadata": {
  "interpreter": {
   "hash": "a21708d812d62f70891e1adba478e2457711887225fe2528cded953ebf3fe7ef"
  },
  "kernelspec": {
   "display_name": "Python 3.8.5 64-bit ('anaconda3': virtualenv)",
   "name": "python3"
  },
  "language_info": {
   "codemirror_mode": {
    "name": "ipython",
    "version": 3
   },
   "file_extension": ".py",
   "mimetype": "text/x-python",
   "name": "python",
   "nbconvert_exporter": "python",
   "pygments_lexer": "ipython3",
   "version": "3.11.3"
  }
 },
 "nbformat": 4,
 "nbformat_minor": 5
}
